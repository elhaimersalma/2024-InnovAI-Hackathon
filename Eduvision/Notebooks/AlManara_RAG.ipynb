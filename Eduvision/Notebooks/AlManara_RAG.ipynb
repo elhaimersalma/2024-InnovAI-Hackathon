{
  "nbformat": 4,
  "nbformat_minor": 0,
  "metadata": {
    "colab": {
      "provenance": []
    },
    "kernelspec": {
      "name": "python3",
      "display_name": "Python 3"
    },
    "language_info": {
      "name": "python"
    }
  },
  "cells": [
    {
      "cell_type": "markdown",
      "source": [
        "# **AlManara RAG (Retrieval-Augmented Generation)**"
      ],
      "metadata": {
        "id": "8T_42MeOxesl"
      }
    },
    {
      "cell_type": "markdown",
      "source": [
        " **This notebook demonstrates how to create a Retrieval-Augmented Generation (RAG) system\n",
        "by integrating our data . It uses Sentence Transformers for embeddings,\n",
        "FAISS for indexing, and T5 for text generation.**"
      ],
      "metadata": {
        "id": "P96D__H5xwph"
      }
    },
    {
      "cell_type": "code",
      "execution_count": 7,
      "metadata": {
        "colab": {
          "base_uri": "https://localhost:8080/"
        },
        "id": "6x8B48k-O2Ag",
        "outputId": "43599eae-e4a9-4810-aace-1c75400af957"
      },
      "outputs": [
        {
          "output_type": "stream",
          "name": "stdout",
          "text": [
            "Requirement already satisfied: transformers in /usr/local/lib/python3.10/dist-packages (4.46.2)\n",
            "Requirement already satisfied: sentence-transformers in /usr/local/lib/python3.10/dist-packages (3.2.1)\n",
            "Requirement already satisfied: faiss-cpu in /usr/local/lib/python3.10/dist-packages (1.9.0.post1)\n",
            "Requirement already satisfied: PyPDF2 in /usr/local/lib/python3.10/dist-packages (3.0.1)\n",
            "Requirement already satisfied: dash in /usr/local/lib/python3.10/dist-packages (2.18.2)\n",
            "Requirement already satisfied: plotly in /usr/local/lib/python3.10/dist-packages (5.24.1)\n",
            "Requirement already satisfied: flask-ngrok in /usr/local/lib/python3.10/dist-packages (0.0.25)\n",
            "Requirement already satisfied: filelock in /usr/local/lib/python3.10/dist-packages (from transformers) (3.16.1)\n",
            "Requirement already satisfied: huggingface-hub<1.0,>=0.23.2 in /usr/local/lib/python3.10/dist-packages (from transformers) (0.26.2)\n",
            "Requirement already satisfied: numpy>=1.17 in /usr/local/lib/python3.10/dist-packages (from transformers) (1.26.4)\n",
            "Requirement already satisfied: packaging>=20.0 in /usr/local/lib/python3.10/dist-packages (from transformers) (24.2)\n",
            "Requirement already satisfied: pyyaml>=5.1 in /usr/local/lib/python3.10/dist-packages (from transformers) (6.0.2)\n",
            "Requirement already satisfied: regex!=2019.12.17 in /usr/local/lib/python3.10/dist-packages (from transformers) (2024.9.11)\n",
            "Requirement already satisfied: requests in /usr/local/lib/python3.10/dist-packages (from transformers) (2.32.3)\n",
            "Requirement already satisfied: safetensors>=0.4.1 in /usr/local/lib/python3.10/dist-packages (from transformers) (0.4.5)\n",
            "Requirement already satisfied: tokenizers<0.21,>=0.20 in /usr/local/lib/python3.10/dist-packages (from transformers) (0.20.3)\n",
            "Requirement already satisfied: tqdm>=4.27 in /usr/local/lib/python3.10/dist-packages (from transformers) (4.66.6)\n",
            "Requirement already satisfied: torch>=1.11.0 in /usr/local/lib/python3.10/dist-packages (from sentence-transformers) (2.5.1+cu121)\n",
            "Requirement already satisfied: scikit-learn in /usr/local/lib/python3.10/dist-packages (from sentence-transformers) (1.5.2)\n",
            "Requirement already satisfied: scipy in /usr/local/lib/python3.10/dist-packages (from sentence-transformers) (1.13.1)\n",
            "Requirement already satisfied: Pillow in /usr/local/lib/python3.10/dist-packages (from sentence-transformers) (11.0.0)\n",
            "Requirement already satisfied: Flask<3.1,>=1.0.4 in /usr/local/lib/python3.10/dist-packages (from dash) (3.0.3)\n",
            "Requirement already satisfied: Werkzeug<3.1 in /usr/local/lib/python3.10/dist-packages (from dash) (3.0.6)\n",
            "Requirement already satisfied: dash-html-components==2.0.0 in /usr/local/lib/python3.10/dist-packages (from dash) (2.0.0)\n",
            "Requirement already satisfied: dash-core-components==2.0.0 in /usr/local/lib/python3.10/dist-packages (from dash) (2.0.0)\n",
            "Requirement already satisfied: dash-table==5.0.0 in /usr/local/lib/python3.10/dist-packages (from dash) (5.0.0)\n",
            "Requirement already satisfied: importlib-metadata in /usr/local/lib/python3.10/dist-packages (from dash) (8.5.0)\n",
            "Requirement already satisfied: typing-extensions>=4.1.1 in /usr/local/lib/python3.10/dist-packages (from dash) (4.12.2)\n",
            "Requirement already satisfied: retrying in /usr/local/lib/python3.10/dist-packages (from dash) (1.3.4)\n",
            "Requirement already satisfied: nest-asyncio in /usr/local/lib/python3.10/dist-packages (from dash) (1.6.0)\n",
            "Requirement already satisfied: setuptools in /usr/local/lib/python3.10/dist-packages (from dash) (75.1.0)\n",
            "Requirement already satisfied: tenacity>=6.2.0 in /usr/local/lib/python3.10/dist-packages (from plotly) (9.0.0)\n",
            "Requirement already satisfied: Jinja2>=3.1.2 in /usr/local/lib/python3.10/dist-packages (from Flask<3.1,>=1.0.4->dash) (3.1.4)\n",
            "Requirement already satisfied: itsdangerous>=2.1.2 in /usr/local/lib/python3.10/dist-packages (from Flask<3.1,>=1.0.4->dash) (2.2.0)\n",
            "Requirement already satisfied: click>=8.1.3 in /usr/local/lib/python3.10/dist-packages (from Flask<3.1,>=1.0.4->dash) (8.1.7)\n",
            "Requirement already satisfied: blinker>=1.6.2 in /usr/local/lib/python3.10/dist-packages (from Flask<3.1,>=1.0.4->dash) (1.9.0)\n",
            "Requirement already satisfied: fsspec>=2023.5.0 in /usr/local/lib/python3.10/dist-packages (from huggingface-hub<1.0,>=0.23.2->transformers) (2024.10.0)\n",
            "Requirement already satisfied: networkx in /usr/local/lib/python3.10/dist-packages (from torch>=1.11.0->sentence-transformers) (3.4.2)\n",
            "Requirement already satisfied: sympy==1.13.1 in /usr/local/lib/python3.10/dist-packages (from torch>=1.11.0->sentence-transformers) (1.13.1)\n",
            "Requirement already satisfied: mpmath<1.4,>=1.1.0 in /usr/local/lib/python3.10/dist-packages (from sympy==1.13.1->torch>=1.11.0->sentence-transformers) (1.3.0)\n",
            "Requirement already satisfied: MarkupSafe>=2.1.1 in /usr/local/lib/python3.10/dist-packages (from Werkzeug<3.1->dash) (3.0.2)\n",
            "Requirement already satisfied: zipp>=3.20 in /usr/local/lib/python3.10/dist-packages (from importlib-metadata->dash) (3.21.0)\n",
            "Requirement already satisfied: charset-normalizer<4,>=2 in /usr/local/lib/python3.10/dist-packages (from requests->transformers) (3.4.0)\n",
            "Requirement already satisfied: idna<4,>=2.5 in /usr/local/lib/python3.10/dist-packages (from requests->transformers) (3.10)\n",
            "Requirement already satisfied: urllib3<3,>=1.21.1 in /usr/local/lib/python3.10/dist-packages (from requests->transformers) (2.2.3)\n",
            "Requirement already satisfied: certifi>=2017.4.17 in /usr/local/lib/python3.10/dist-packages (from requests->transformers) (2024.8.30)\n",
            "Requirement already satisfied: six>=1.7.0 in /usr/local/lib/python3.10/dist-packages (from retrying->dash) (1.16.0)\n",
            "Requirement already satisfied: joblib>=1.2.0 in /usr/local/lib/python3.10/dist-packages (from scikit-learn->sentence-transformers) (1.4.2)\n",
            "Requirement already satisfied: threadpoolctl>=3.1.0 in /usr/local/lib/python3.10/dist-packages (from scikit-learn->sentence-transformers) (3.5.0)\n"
          ]
        }
      ],
      "source": [
        "!pip install transformers sentence-transformers faiss-cpu PyPDF2 dash plotly flask-ngrok"
      ]
    },
    {
      "cell_type": "markdown",
      "source": [
        "***Step 1: Import Libraries and Define Utility Functions***"
      ],
      "metadata": {
        "id": "W-IAIfGUyMDC"
      }
    },
    {
      "cell_type": "code",
      "source": [
        "# Import necessary libraries\n",
        "import json\n",
        "import os\n",
        "from PyPDF2 import PdfReader\n",
        "from sentence_transformers import SentenceTransformer\n",
        "import faiss\n",
        "from transformers import T5Tokenizer, T5ForConditionalGeneration"
      ],
      "metadata": {
        "id": "ydhGsZWKVUtw"
      },
      "execution_count": 8,
      "outputs": []
    },
    {
      "cell_type": "code",
      "source": [
        "# Function to clean text\n",
        "def clean_text(text):\n",
        "    \"\"\"\n",
        "    Cleans the text by removing newline characters and extra spaces.\n",
        "\n",
        "    Args:\n",
        "        text (str): The raw text to be cleaned.\n",
        "    Returns:\n",
        "        str: Cleaned text.\n",
        "    \"\"\"\n",
        "    text = text.replace(\"\\n\", \" \").replace(\"\\r\", \" \")\n",
        "    text = \" \".join(text.split())\n",
        "    return text"
      ],
      "metadata": {
        "id": "ZAOiC6eTysWM"
      },
      "execution_count": 9,
      "outputs": []
    },
    {
      "cell_type": "markdown",
      "source": [
        "***Step 2: Load Data from JSON File***"
      ],
      "metadata": {
        "id": "E8NcklLUyVy1"
      }
    },
    {
      "cell_type": "code",
      "source": [
        "# Path to the JSON file containing prompts and responses\n",
        "json_path = '/content/Docs Folder/scraping.json'\n",
        "\n",
        "# Load prompts and responses from the JSON file\n",
        "with open(\"/content/Docs Folder/Scraping.json\", 'r') as file:\n",
        "    prompts_and_responses = json.load(file)\n",
        "\n",
        "# Extract responses and clean them to build the corpus\n",
        "corpus = [clean_text(response) for response in prompts_and_responses.values()]\n",
        "\n",
        "print(f\"Loaded {len(corpus)} responses from JSON file.\")"
      ],
      "metadata": {
        "colab": {
          "base_uri": "https://localhost:8080/"
        },
        "id": "jhgjawnzyevU",
        "outputId": "f5dfb1fd-e1f4-4f3a-fe63-d421cb769ba4"
      },
      "execution_count": 13,
      "outputs": [
        {
          "output_type": "stream",
          "name": "stdout",
          "text": [
            "Loaded 4 responses from JSON file.\n"
          ]
        }
      ]
    },
    {
      "cell_type": "markdown",
      "source": [],
      "metadata": {
        "id": "-XC74RBI0l5v"
      }
    },
    {
      "cell_type": "markdown",
      "source": [
        "***Step 3: Extract Text from PDF Files***"
      ],
      "metadata": {
        "id": "4oaWYp1Ey54j"
      }
    },
    {
      "cell_type": "code",
      "source": [
        "# Function to extract text from PDF files\n",
        "def extract_text_from_pdfs(pdf_folder):\n",
        "    \"\"\"\n",
        "    Extracts text from all PDF files in a given folder.\n",
        "\n",
        "    Args:\n",
        "        pdf_folder (str): Path to the folder containing PDF files.\n",
        "    Returns:\n",
        "        list: A list of cleaned text extracted from each PDF.\n",
        "    \"\"\"\n",
        "    documents = []\n",
        "    for file_name in os.listdir(pdf_folder):\n",
        "        if file_name.endswith('.pdf'):\n",
        "            file_path = os.path.join(pdf_folder, file_name)\n",
        "            reader = PdfReader(file_path)\n",
        "            text = \"\"\n",
        "            for page in reader.pages:\n",
        "                text += page.extract_text()\n",
        "            documents.append(clean_text(text))\n",
        "    return documents"
      ],
      "metadata": {
        "id": "HlWRrxVry0dm"
      },
      "execution_count": 14,
      "outputs": []
    },
    {
      "cell_type": "code",
      "source": [
        "# Path to the folder containing PDF files\n",
        "pdf_folder = '/content/Docs Folder'\n",
        "\n",
        "# Extract text from PDFs and add to the corpus\n",
        "pdf_texts = extract_text_from_pdfs(pdf_folder)\n",
        "corpus.extend(pdf_texts)\n",
        "\n",
        "print(f\"Extracted text from {len(pdf_texts)} PDF files.\")"
      ],
      "metadata": {
        "colab": {
          "base_uri": "https://localhost:8080/"
        },
        "id": "P0Wi439ly3pA",
        "outputId": "0b56a091-ce21-4fbd-81ac-8c61e42a448b"
      },
      "execution_count": 15,
      "outputs": [
        {
          "output_type": "stream",
          "name": "stdout",
          "text": [
            "Extracted text from 4 PDF files.\n"
          ]
        }
      ]
    },
    {
      "cell_type": "markdown",
      "source": [
        " ***Step 4: Create Embeddings and Build FAISS Index\n",
        "python***\n",
        "\n",
        "\n"
      ],
      "metadata": {
        "id": "Q2gsvCXrzCbE"
      }
    },
    {
      "cell_type": "code",
      "source": [
        "# Initialize SentenceTransformer model for embedding generation\n",
        "embedder = SentenceTransformer('sentence-transformers/all-MiniLM-L6-v2')\n",
        "\n",
        "# Generate embeddings for the corpus\n",
        "embeddings = embedder.encode(corpus, convert_to_tensor=False)\n",
        "\n",
        "# Initialize and populate FAISS index\n",
        "dimension = embeddings[0].shape[0]  # Dimension of embeddings\n",
        "index = faiss.IndexFlatL2(dimension)  # Using L2 norm for similarity\n",
        "index.add(embeddings)  # Add embeddings to the FAISS index\n",
        "\n",
        "print(\"FAISS index created successfully.\")"
      ],
      "metadata": {
        "colab": {
          "base_uri": "https://localhost:8080/"
        },
        "id": "ARCxidRYzSWa",
        "outputId": "83be4752-33b0-403e-8420-2493894f9952"
      },
      "execution_count": 16,
      "outputs": [
        {
          "output_type": "stream",
          "name": "stdout",
          "text": [
            "FAISS index created successfully.\n"
          ]
        }
      ]
    },
    {
      "cell_type": "markdown",
      "source": [
        "***Step 5: Define a Search Function***"
      ],
      "metadata": {
        "id": "oqcsRCC0zVtT"
      }
    },
    {
      "cell_type": "code",
      "source": [
        "# Function to search the FAISS index\n",
        "def search(query, top_k=5):\n",
        "    \"\"\"\n",
        "    Searches the FAISS index for the most relevant documents to the query.\n",
        "\n",
        "    Args:\n",
        "        query (str): The search query.\n",
        "        top_k (int): Number of top documents to retrieve.\n",
        "    Returns:\n",
        "        list: A list of the most relevant documents.\n",
        "    \"\"\"\n",
        "    query_embedding = embedder.encode([query], convert_to_tensor=False)\n",
        "    distances, indices = index.search(query_embedding, top_k)\n",
        "    results = [corpus[i] for i in indices[0]]\n",
        "    return results"
      ],
      "metadata": {
        "id": "UuRrSI1HzZoH"
      },
      "execution_count": 17,
      "outputs": []
    },
    {
      "cell_type": "markdown",
      "source": [
        "***Step 6: Load and Prepare T5 Model for Text Generation***"
      ],
      "metadata": {
        "id": "X5L3KfEyzc5C"
      }
    },
    {
      "cell_type": "code",
      "source": [
        "# Load T5 tokenizer and model for text generation\n",
        "tokenizer = T5Tokenizer.from_pretrained('t5-small')\n",
        "model = T5ForConditionalGeneration.from_pretrained('t5-small')\n",
        "\n",
        "# Function to generate a response using T5\n",
        "def generate_response(context):\n",
        "    \"\"\"\n",
        "    Generates a response using T5 summarization capabilities.\n",
        "\n",
        "    Args:\n",
        "        context (str): The context text to summarize.\n",
        "    Returns:\n",
        "        str: The generated response.\n",
        "    \"\"\"\n",
        "    input_text = f\"summarize: {context}\"\n",
        "    input_ids = tokenizer.encode(input_text, return_tensors='pt', max_length=512, truncation=True)\n",
        "    output_ids = model.generate(input_ids, max_length=150, num_beams=2, length_penalty=1.2, early_stopping=True)\n",
        "    return tokenizer.decode(output_ids[0], skip_special_tokens=True)"
      ],
      "metadata": {
        "id": "YYXT-zAAzimI"
      },
      "execution_count": 18,
      "outputs": []
    }
  ]
}