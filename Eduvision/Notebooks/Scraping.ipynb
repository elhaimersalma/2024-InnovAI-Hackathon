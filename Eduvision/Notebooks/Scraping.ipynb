{
 "cells": [
  {
   "cell_type": "markdown",
   "metadata": {},
   "source": [
    "# Extracting Education Policies from OECD "
   ]
  },
  {
   "cell_type": "markdown",
   "metadata": {},
   "source": [
    "**Import libraries**"
   ]
  },
  {
   "cell_type": "code",
   "execution_count": 1,
   "metadata": {},
   "outputs": [],
   "source": [
    "import time\n",
    "from bs4 import BeautifulSoup\n",
    "from selenium import webdriver\n",
    "from selenium.webdriver.chrome.service import Service\n",
    "from selenium.webdriver.common.by import By\n",
    "from selenium.webdriver.support.ui import WebDriverWait\n",
    "from selenium.webdriver.support import expected_conditions as EC"
   ]
  },
  {
   "cell_type": "markdown",
   "metadata": {},
   "source": [
    "**Chrome Driver**"
   ]
  },
  {
   "cell_type": "code",
   "execution_count": 2,
   "metadata": {},
   "outputs": [],
   "source": [
    "url = \"https://gpseducation.oecd.org/revieweducationpolicies/#!node=42869&filter=all\" # the URL of the page we are scraping\n",
    "service = Service('/Users/hajar/Documents/ALMANARA/OECD_scrapping /chromedriver-mac-arm64/chromedriver')\n",
    "options = webdriver.ChromeOptions()\n",
    "driver = webdriver.Chrome(service=service, options=options)"
   ]
  },
  {
   "cell_type": "markdown",
   "metadata": {},
   "source": [
    "**Function to save the extracted text**"
   ]
  },
  {
   "cell_type": "code",
   "execution_count": 3,
   "metadata": {},
   "outputs": [],
   "source": [
    "def save_to_file(content, filename=\"scraped_oecd.txt\", mode=\"a\"):\n",
    "    with open(filename, mode, encoding=\"utf-8\") as file:\n",
    "        file.write(content + \"\\n\")"
   ]
  },
  {
   "cell_type": "markdown",
   "metadata": {},
   "source": [
    "**Function to extraxt Regional Development Insights**"
   ]
  },
  {
   "cell_type": "code",
   "execution_count": 4,
   "metadata": {},
   "outputs": [],
   "source": [
    "def get_main_text(soup):\n",
    "        results = []\n",
    "        mainText = soup.find(\"div\", {'id': 'leadTexts'})\n",
    "        if mainText:\n",
    "            paragraphs = mainText.find_all(\"p\")\n",
    "            for paragraph in paragraphs:\n",
    "                results.append(paragraph.get_text(strip=True))\n",
    "        return results"
   ]
  },
  {
   "cell_type": "markdown",
   "metadata": {},
   "source": [
    "**Function to extraxt the Key Insights**"
   ]
  },
  {
   "cell_type": "code",
   "execution_count": 6,
   "metadata": {},
   "outputs": [],
   "source": [
    "def get_key_insights(soup):\n",
    "        results = []\n",
    "        mainText = soup.find(\"div\", {'id': 'keyInsights'})\n",
    "        if mainText:\n",
    "            print(\"Found keyInsights div\")\n",
    "            sections = mainText.find_all(\"div\", {'class': 'Tertiary'})\n",
    "            print(f\"Number of sections found: {len(sections)}\")\n",
    "            for section in sections:\n",
    "               title = section.find(\"h3\")\n",
    "               paragraph = section.find(\"p\")\n",
    "               if title and paragraph:\n",
    "                   print(f\"Found title and paragraph\")\n",
    "                   results.append({\n",
    "                    'title': title.get_text(strip=True),\n",
    "                    'text': paragraph.get_text(strip=True)\n",
    "                   })\n",
    "               else:\n",
    "                   print(\"Missing title or paragraph\")  \n",
    "        \n",
    "        else:\n",
    "           print(\"keyInsights div not found\")\n",
    "        return results"
   ]
  },
  {
   "cell_type": "markdown",
   "metadata": {},
   "source": [
    "**Function to extraxt Policy Options**"
   ]
  },
  {
   "cell_type": "code",
   "execution_count": 7,
   "metadata": {},
   "outputs": [],
   "source": [
    "def get_policy_options(soup):\n",
    "    results = []\n",
    "    mainText = soup.find(\"div\", {'id': 'policyDirections'})\n",
    "    if mainText:\n",
    "        print(\"Found policyDirections div\")\n",
    "        sections = mainText.find_all(\"div\", {'class': 'Tertiary'})\n",
    "        print(f\"Number of sections found: {len(sections)}\")\n",
    "        for section in sections:\n",
    "            title = section.find(\"h3\")\n",
    "            paragraph = section.find(\"div\", {'class': 'collapsibleParagraph'})\n",
    "            if title and paragraph:\n",
    "                print(f\"Found title and paragraph\")\n",
    "                results.append({\n",
    "                    'title': title.get_text(strip=True),\n",
    "                    'text': paragraph.get_text(strip=True)\n",
    "                })\n",
    "            else:\n",
    "                print(\"Missing title or paragraph\")\n",
    "    else:\n",
    "        print(\"policyDirections div not found\")\n",
    "    return results"
   ]
  },
  {
   "cell_type": "markdown",
   "metadata": {},
   "source": [
    "**Extraction process**"
   ]
  },
  {
   "cell_type": "code",
   "execution_count": 11,
   "metadata": {},
   "outputs": [
    {
     "name": "stdout",
     "output_type": "stream",
     "text": [
      "Saved\n",
      "Saved\n",
      "Saved\n"
     ]
    }
   ],
   "source": [
    "try:\n",
    "  \n",
    "    driver.get(url)\n",
    "\n",
    "   \n",
    "    WebDriverWait(driver, 20).until(\n",
    "        EC.presence_of_element_located((By.ID, \"policyDirections\"))\n",
    "    )\n",
    "    time.sleep(10)\n",
    "\n",
    "\n",
    "    page_source = driver.page_source\n",
    "\n",
    "\n",
    "    soup = BeautifulSoup(page_source, \"html.parser\")\n",
    "\n",
    "    text = get_main_text(soup)\n",
    "    if text:\n",
    "        with open(\"scraped_oecd.txt\", \"w\", encoding=\"utf-8\") as file:\n",
    "            file.write(\"\\n\".join(text))\n",
    "        print(\"Saved\")\n",
    "    else:\n",
    "        print(\"Not found 404\")\n",
    "\n",
    "    key_insights = get_key_insights(soup)\n",
    "    if key_insights:\n",
    "        save_to_file(\"\\nKey Insights:\", mode=\"a\")\n",
    "        for insight in key_insights:\n",
    "            content = f\"\\nTitle: {insight['title']}\\nText: {insight['text']}\\n{'-' * 50}\"\n",
    "            save_to_file(content, mode=\"a\")\n",
    "        print(\"Saved\")\n",
    "    else:\n",
    "        print(\"Not found 404\")\n",
    "\n",
    "\n",
    "    policy_options = get_policy_options(soup)\n",
    "    if policy_options:\n",
    "        save_to_file(\"\\nPolicy Options:\", mode=\"a\")\n",
    "        for option in policy_options:\n",
    "            content = f\"\\nTitle: {option['title']}\\nText: {option['text']}\\n{'-' * 50}\"\n",
    "            save_to_file(content, mode=\"a\")\n",
    "        print(\"Saved\")\n",
    "    else:\n",
    "        print(\"Not found 404\")\n",
    "\n",
    "\n",
    "finally:\n",
    "\n",
    "    driver.quit()"
   ]
  }
 ],
 "metadata": {
  "kernelspec": {
   "display_name": "Python 3",
   "language": "python",
   "name": "python3"
  },
  "language_info": {
   "codemirror_mode": {
    "name": "ipython",
    "version": 3
   },
   "file_extension": ".py",
   "mimetype": "text/x-python",
   "name": "python",
   "nbconvert_exporter": "python",
   "pygments_lexer": "ipython3",
   "version": "3.13.0"
  }
 },
 "nbformat": 4,
 "nbformat_minor": 2
}
